{
 "cells": [
  {
   "cell_type": "code",
   "execution_count": 1,
   "metadata": {},
   "outputs": [],
   "source": [
    "import numpy as np\n",
    "import pandas as pd\n",
    "import matplotlib.pyplot as plt"
   ]
  },
  {
   "cell_type": "markdown",
   "metadata": {},
   "source": [
    "## Curve fitting"
   ]
  },
  {
   "cell_type": "markdown",
   "metadata": {},
   "source": [
    "\\begin{equation}\n",
    "RMSE=\\sqrt{\\frac{1}{n}\\sum{(y-\\hat{y})^2}}\\\\\n",
    "R^2=1-\\frac{\\sum{(y-\\hat{y})^2}}{\\sum{(y-\\bar{y})^2}}\n",
    "\\end{equation}"
   ]
  },
  {
   "cell_type": "markdown",
   "metadata": {},
   "source": [
    "## Example:"
   ]
  },
  {
   "cell_type": "markdown",
   "metadata": {},
   "source": [
    "### 1.Fit gas equation\n",
    "\\begin{equation}\n",
    "PV^\\gamma=constant(K)\\\\\n",
    "logP=logK-\\gamma logV\\\\\n",
    "y=a+bx\n",
    "\\end{equation}"
   ]
  },
  {
   "cell_type": "code",
   "execution_count": 2,
   "metadata": {},
   "outputs": [
    {
     "data": {
      "text/html": [
       "<div>\n",
       "<style scoped>\n",
       "    .dataframe tbody tr th:only-of-type {\n",
       "        vertical-align: middle;\n",
       "    }\n",
       "\n",
       "    .dataframe tbody tr th {\n",
       "        vertical-align: top;\n",
       "    }\n",
       "\n",
       "    .dataframe thead th {\n",
       "        text-align: right;\n",
       "    }\n",
       "</style>\n",
       "<table border=\"1\" class=\"dataframe\">\n",
       "  <thead>\n",
       "    <tr style=\"text-align: right;\">\n",
       "      <th></th>\n",
       "      <th>volume(cm3)</th>\n",
       "      <th>pressure(gm/cm2)</th>\n",
       "    </tr>\n",
       "  </thead>\n",
       "  <tbody>\n",
       "    <tr>\n",
       "      <th>0</th>\n",
       "      <td>54.3</td>\n",
       "      <td>61.2</td>\n",
       "    </tr>\n",
       "    <tr>\n",
       "      <th>1</th>\n",
       "      <td>61.8</td>\n",
       "      <td>49.2</td>\n",
       "    </tr>\n",
       "    <tr>\n",
       "      <th>2</th>\n",
       "      <td>72.4</td>\n",
       "      <td>37.6</td>\n",
       "    </tr>\n",
       "    <tr>\n",
       "      <th>3</th>\n",
       "      <td>88.7</td>\n",
       "      <td>28.4</td>\n",
       "    </tr>\n",
       "    <tr>\n",
       "      <th>4</th>\n",
       "      <td>118.6</td>\n",
       "      <td>19.2</td>\n",
       "    </tr>\n",
       "    <tr>\n",
       "      <th>5</th>\n",
       "      <td>194.0</td>\n",
       "      <td>10.1</td>\n",
       "    </tr>\n",
       "  </tbody>\n",
       "</table>\n",
       "</div>"
      ],
      "text/plain": [
       "   volume(cm3)  pressure(gm/cm2)\n",
       "0         54.3              61.2\n",
       "1         61.8              49.2\n",
       "2         72.4              37.6\n",
       "3         88.7              28.4\n",
       "4        118.6              19.2\n",
       "5        194.0              10.1"
      ]
     },
     "execution_count": 2,
     "metadata": {},
     "output_type": "execute_result"
    }
   ],
   "source": [
    "df = pd.read_excel('data/gas.xlsx')\n",
    "df"
   ]
  },
  {
   "cell_type": "code",
   "execution_count": 3,
   "metadata": {},
   "outputs": [
    {
     "data": {
      "image/png": "[encoded data removed]",
      "text/plain": [
       "<Figure size 432x432 with 1 Axes>"
      ]
     },
     "metadata": {
      "needs_background": "light"
     },
     "output_type": "display_data"
    }
   ],
   "source": [
    "plt.figure(figsize = [6,6])\n",
    "plt.scatter(df['volume(cm3)'],df['pressure(gm/cm2)'])\n",
    "plt.xlabel('volume(cm3)')\n",
    "plt.ylabel('pressure(gm/cm2)')\n",
    "plt.title('Gas')\n",
    "plt.show()"
   ]
  },
  {
   "cell_type": "code",
   "execution_count": 4,
   "metadata": {},
   "outputs": [
    {
     "data": {
      "image/png": "[encoded data removed]",
      "text/plain": [
       "<Figure size 432x432 with 1 Axes>"
      ]
     },
     "metadata": {
      "needs_background": "light"
     },
     "output_type": "display_data"
    },
    {
     "name": "stdout",
     "output_type": "stream",
     "text": [
      "gamma = 1.4\n",
      "K= 1.6e+04\n"
     ]
    }
   ],
   "source": [
    "n=6\n",
    "x=np.log(df['volume(cm3)'])\n",
    "y=np.log(df['pressure(gm/cm2)'])\n",
    "z=np.polyfit(x, y, 1) # linear  fit =y=a+bx\n",
    "p=np.poly1d(z)  #  [a,b]\n",
    "ey=p(x) # expected value\n",
    "a=\"{:.3}\".format(p[0])\n",
    "b=\"{:.3}\".format(p[1])\n",
    "K=np.exp(p[0])\n",
    "gamma=p[1]\n",
    "\n",
    "RMSE=np.sqrt(np.sum((y-ey)**2)/n)\n",
    "R_square=1-(np.sum(np.sum(np.sum((y-ey)**2))/np.sum((y-np.mean(y))**2)))\n",
    "rmse=\"{:.2}\".format(RMSE)\n",
    "r2=\"{:.2}\".format(R_square)\n",
    "\n",
    "\n",
    "plt.figure(figsize = [6,6])\n",
    "plt.plot(x, y, 'ro',label='observed')\n",
    "plt.plot(x, ey, 'b-',label='fitted, a= '+str(a)+', b='+str(b))\n",
    "plt.xlabel('log(V)')\n",
    "plt.ylabel('log(P)')\n",
    "plt.figtext(0.2, 0.3, 'RMSE = '+str(rmse)+',r2='+str(r2))\n",
    "plt.legend()\n",
    "plt.title('Fitted curve')\n",
    "plt.show()\n",
    "print('gamma =',\"{:.2}\".format(-gamma))\n",
    "print('K=',\"{:.2}\".format(K))\n"
   ]
  },
  {
   "cell_type": "markdown",
   "metadata": {},
   "source": [
    "### 2.Fit \n",
    "\\begin{equation}\n",
    "f(\\theta)=A+B\\cos\\theta+C\\cos^2\\theta\\\\\n",
    "y=A+Bx+Cx^2\n",
    "\\end{equation}"
   ]
  },
  {
   "cell_type": "code",
   "execution_count": 5,
   "metadata": {},
   "outputs": [
    {
     "data": {
      "text/html": [
       "<div>\n",
       "<style scoped>\n",
       "    .dataframe tbody tr th:only-of-type {\n",
       "        vertical-align: middle;\n",
       "    }\n",
       "\n",
       "    .dataframe tbody tr th {\n",
       "        vertical-align: top;\n",
       "    }\n",
       "\n",
       "    .dataframe thead th {\n",
       "        text-align: right;\n",
       "    }\n",
       "</style>\n",
       "<table border=\"1\" class=\"dataframe\">\n",
       "  <thead>\n",
       "    <tr style=\"text-align: right;\">\n",
       "      <th></th>\n",
       "      <th>theta(degree)</th>\n",
       "      <th>f(theta)</th>\n",
       "    </tr>\n",
       "  </thead>\n",
       "  <tbody>\n",
       "    <tr>\n",
       "      <th>0</th>\n",
       "      <td>30</td>\n",
       "      <td>11</td>\n",
       "    </tr>\n",
       "    <tr>\n",
       "      <th>1</th>\n",
       "      <td>45</td>\n",
       "      <td>13</td>\n",
       "    </tr>\n",
       "    <tr>\n",
       "      <th>2</th>\n",
       "      <td>90</td>\n",
       "      <td>16</td>\n",
       "    </tr>\n",
       "    <tr>\n",
       "      <th>3</th>\n",
       "      <td>120</td>\n",
       "      <td>17</td>\n",
       "    </tr>\n",
       "    <tr>\n",
       "      <th>4</th>\n",
       "      <td>150</td>\n",
       "      <td>14</td>\n",
       "    </tr>\n",
       "  </tbody>\n",
       "</table>\n",
       "</div>"
      ],
      "text/plain": [
       "   theta(degree)  f(theta)\n",
       "0             30        11\n",
       "1             45        13\n",
       "2             90        16\n",
       "3            120        17\n",
       "4            150        14"
      ]
     },
     "execution_count": 5,
     "metadata": {},
     "output_type": "execute_result"
    }
   ],
   "source": [
    "df1 = pd.read_excel('data/scattering.xlsx')\n",
    "df1"
   ]
  },
  {
   "cell_type": "code",
   "execution_count": 6,
   "metadata": {},
   "outputs": [
    {
     "data": {
      "image/png": "[encoded data removed]",
      "text/plain": [
       "<Figure size 432x432 with 1 Axes>"
      ]
     },
     "metadata": {
      "needs_background": "light"
     },
     "output_type": "display_data"
    }
   ],
   "source": [
    "plt.figure(figsize = [6,6])\n",
    "plt.scatter(df1['theta(degree)'],df1['f(theta)'])\n",
    "plt.xlabel(r'$\\theta$(degree)')\n",
    "plt.ylabel(r'f($\\theta$)')\n",
    "plt.title('Scattering')\n",
    "plt.show()"
   ]
  },
  {
   "cell_type": "code",
   "execution_count": 7,
   "metadata": {},
   "outputs": [
    {
     "data": {
      "image/png": "[encoded data removed]",
      "text/plain": [
       "<Figure size 432x432 with 1 Axes>"
      ]
     },
     "metadata": {
      "needs_background": "light"
     },
     "output_type": "display_data"
    }
   ],
   "source": [
    "n1=5\n",
    "x1=np.cos(df1['theta(degree)']*np.pi/180)\n",
    "y1=df1['f(theta)']\n",
    "z1=np.polyfit(x1, y1, 2) # second order  fit y=a+bx+cx2\n",
    "p1=np.poly1d(z1)  #  [c,b,a]\n",
    "ey1=p1(x1) #expected value\n",
    "A=\"{:.3}\".format(p1[0])\n",
    "B=\"{:.3}\".format(p1[1])\n",
    "C=\"{:.3}\".format(p1[2])\n",
    "\n",
    "\n",
    "RMSE1=np.sqrt(np.sum((y1-ey1)**2)/n1)\n",
    "R_square1=1-(np.sum(np.sum(np.sum((y1-ey1)**2))/np.sum((y1-np.mean(y1))**2)))\n",
    "rmse1=\"{:.2}\".format(RMSE1)\n",
    "r21=\"{:.2}\".format(R_square1)\n",
    "\n",
    "\n",
    "plt.figure(figsize = [6,6])\n",
    "plt.plot(x1, y1, 'ro',label='observed')\n",
    "plt.plot(x1, ey1, 'b-',label='fitted, A= '+str(A)+', B='+str(B)+',C='+str(C))\n",
    "plt.xlabel(r'cos($\\theta$)')\n",
    "plt.ylabel(r'f($\\theta$)')\n",
    "plt.figtext(0.2, 0.3, 'RMSE = '+str(rmse1)+',r2='+str(r21))\n",
    "plt.legend()\n",
    "plt.title('Fitted curve')\n",
    "plt.show()\n"
   ]
  },
  {
   "cell_type": "markdown",
   "metadata": {},
   "source": [
    "### 3.Determination of decay conctant and half life\n",
    "\\begin{equation}\n",
    "N=N_0~e^{-\\lambda~t}\\\\\n",
    "logN=logN_0-\\lambda~t\\\\\n",
    "y=A+BX\n",
    "\\end{equation}"
   ]
  },
  {
   "cell_type": "code",
   "execution_count": 8,
   "metadata": {},
   "outputs": [
    {
     "data": {
      "text/html": [
       "<div>\n",
       "<style scoped>\n",
       "    .dataframe tbody tr th:only-of-type {\n",
       "        vertical-align: middle;\n",
       "    }\n",
       "\n",
       "    .dataframe tbody tr th {\n",
       "        vertical-align: top;\n",
       "    }\n",
       "\n",
       "    .dataframe thead th {\n",
       "        text-align: right;\n",
       "    }\n",
       "</style>\n",
       "<table border=\"1\" class=\"dataframe\">\n",
       "  <thead>\n",
       "    <tr style=\"text-align: right;\">\n",
       "      <th></th>\n",
       "      <th>t [s]</th>\n",
       "      <th>N [s-1]</th>\n",
       "    </tr>\n",
       "  </thead>\n",
       "  <tbody>\n",
       "    <tr>\n",
       "      <th>0</th>\n",
       "      <td>0</td>\n",
       "      <td>32</td>\n",
       "    </tr>\n",
       "    <tr>\n",
       "      <th>1</th>\n",
       "      <td>5</td>\n",
       "      <td>28</td>\n",
       "    </tr>\n",
       "    <tr>\n",
       "      <th>2</th>\n",
       "      <td>10</td>\n",
       "      <td>29</td>\n",
       "    </tr>\n",
       "    <tr>\n",
       "      <th>3</th>\n",
       "      <td>15</td>\n",
       "      <td>28</td>\n",
       "    </tr>\n",
       "    <tr>\n",
       "      <th>4</th>\n",
       "      <td>20</td>\n",
       "      <td>25</td>\n",
       "    </tr>\n",
       "    <tr>\n",
       "      <th>...</th>\n",
       "      <td>...</td>\n",
       "      <td>...</td>\n",
       "    </tr>\n",
       "    <tr>\n",
       "      <th>78</th>\n",
       "      <td>390</td>\n",
       "      <td>1</td>\n",
       "    </tr>\n",
       "    <tr>\n",
       "      <th>79</th>\n",
       "      <td>395</td>\n",
       "      <td>1</td>\n",
       "    </tr>\n",
       "    <tr>\n",
       "      <th>80</th>\n",
       "      <td>400</td>\n",
       "      <td>2</td>\n",
       "    </tr>\n",
       "    <tr>\n",
       "      <th>81</th>\n",
       "      <td>405</td>\n",
       "      <td>2</td>\n",
       "    </tr>\n",
       "    <tr>\n",
       "      <th>82</th>\n",
       "      <td>410</td>\n",
       "      <td>1</td>\n",
       "    </tr>\n",
       "  </tbody>\n",
       "</table>\n",
       "<p>83 rows × 2 columns</p>\n",
       "</div>"
      ],
      "text/plain": [
       "    t [s]  N [s-1]\n",
       "0       0       32\n",
       "1       5       28\n",
       "2      10       29\n",
       "3      15       28\n",
       "4      20       25\n",
       "..    ...      ...\n",
       "78    390        1\n",
       "79    395        1\n",
       "80    400        2\n",
       "81    405        2\n",
       "82    410        1\n",
       "\n",
       "[83 rows x 2 columns]"
      ]
     },
     "execution_count": 8,
     "metadata": {},
     "output_type": "execute_result"
    }
   ],
   "source": [
    "df2 = pd.read_excel('data/env-dec.xlsx')\n",
    "df2"
   ]
  },
  {
   "cell_type": "code",
   "execution_count": 9,
   "metadata": {},
   "outputs": [
    {
     "data": {
      "image/png": "[encoded data removed]",
      "text/plain": [
       "<Figure size 432x432 with 1 Axes>"
      ]
     },
     "metadata": {
      "needs_background": "light"
     },
     "output_type": "display_data"
    }
   ],
   "source": [
    "plt.figure(figsize = [6,6])\n",
    "plt.scatter(df2['t [s]'],df2['N [s-1]'])\n",
    "plt.xlabel('time(s)')\n",
    "plt.ylabel('Count($s^{-1}$)')\n",
    "plt.title('Decay curve')\n",
    "plt.show()"
   ]
  },
  {
   "cell_type": "code",
   "execution_count": 10,
   "metadata": {},
   "outputs": [
    {
     "data": {
      "image/png": "[encoded data removed]",
      "text/plain": [
       "<Figure size 432x432 with 1 Axes>"
      ]
     },
     "metadata": {
      "needs_background": "light"
     },
     "output_type": "display_data"
    }
   ],
   "source": [
    "n2=83\n",
    "x2=df2['t [s]']\n",
    "y2=np.log(df2['N [s-1]'])\n",
    "z2=np.polyfit(x2, y2, 1) # second order  fit y=a+bx\n",
    "p2=np.poly1d(z2)  #  [c,b,a]\n",
    "ey2=p2(x2) #expected value\n",
    "A1=\"{:.3}\".format(p2[0])\n",
    "B1=\"{:.3}\".format(-p2[1])\n",
    "\n",
    "\n",
    "RMSE2=np.sqrt(np.sum((y2-ey2)**2)/n2)\n",
    "R_square2=1-(np.sum(np.sum(np.sum((y2-ey2)**2))/np.sum((y2-np.mean(y2))**2)))\n",
    "rmse2=\"{:.2}\".format(RMSE2)\n",
    "r22=\"{:.2}\".format(R_square2)\n",
    "\n",
    "\n",
    "plt.figure(figsize = [6,6])\n",
    "plt.plot(x2, y2, 'ro',label='observed')\n",
    "plt.plot(x2, ey2, 'b-',label='fitted, A= '+str(A1)+', B='+str(B1))\n",
    "plt.xlabel('time(sec)')\n",
    "plt.ylabel('ln(A)')\n",
    "plt.figtext(0.2, 0.3, 'RMSE = '+str(rmse2)+',r2='+str(r22))\n",
    "plt.legend()\n",
    "plt.title('Fitted curve')\n",
    "plt.show()"
   ]
  },
  {
   "cell_type": "code",
   "execution_count": 11,
   "metadata": {},
   "outputs": [
    {
     "name": "stdout",
     "output_type": "stream",
     "text": [
      "decay constant =0.008246 /sec\n"
     ]
    }
   ],
   "source": [
    "print('decay constant =%0.6f /sec'%-p2[1])"
   ]
  },
  {
   "cell_type": "code",
   "execution_count": 12,
   "metadata": {},
   "outputs": [
    {
     "name": "stdout",
     "output_type": "stream",
     "text": [
      "half life = 84.04 sec\n"
     ]
    }
   ],
   "source": [
    "T=-0.693/p2[1]\n",
    "print('half life = %0.2f sec'%T)"
   ]
  },
  {
   "cell_type": "markdown",
   "metadata": {},
   "source": [
    "### 4.Absorption of coefficient\n",
    "\\begin{equation}\n",
    "N=N_0~e^{-\\mu~x}\\\\\n",
    "logN=logN_0-\\mu~x\\\\\n",
    "y=A+BX\n",
    "\\end{equation}"
   ]
  },
  {
   "cell_type": "code",
   "execution_count": 13,
   "metadata": {},
   "outputs": [
    {
     "data": {
      "text/html": [
       "<div>\n",
       "<style scoped>\n",
       "    .dataframe tbody tr th:only-of-type {\n",
       "        vertical-align: middle;\n",
       "    }\n",
       "\n",
       "    .dataframe tbody tr th {\n",
       "        vertical-align: top;\n",
       "    }\n",
       "\n",
       "    .dataframe thead th {\n",
       "        text-align: right;\n",
       "    }\n",
       "</style>\n",
       "<table border=\"1\" class=\"dataframe\">\n",
       "  <thead>\n",
       "    <tr style=\"text-align: right;\">\n",
       "      <th></th>\n",
       "      <th>n</th>\n",
       "      <th>N [s-1]</th>\n",
       "    </tr>\n",
       "  </thead>\n",
       "  <tbody>\n",
       "    <tr>\n",
       "      <th>0</th>\n",
       "      <td>0</td>\n",
       "      <td>8.0</td>\n",
       "    </tr>\n",
       "    <tr>\n",
       "      <th>1</th>\n",
       "      <td>1</td>\n",
       "      <td>6.0</td>\n",
       "    </tr>\n",
       "    <tr>\n",
       "      <th>2</th>\n",
       "      <td>2</td>\n",
       "      <td>5.0</td>\n",
       "    </tr>\n",
       "    <tr>\n",
       "      <th>3</th>\n",
       "      <td>3</td>\n",
       "      <td>4.0</td>\n",
       "    </tr>\n",
       "    <tr>\n",
       "      <th>4</th>\n",
       "      <td>4</td>\n",
       "      <td>3.0</td>\n",
       "    </tr>\n",
       "    <tr>\n",
       "      <th>5</th>\n",
       "      <td>5</td>\n",
       "      <td>2.0</td>\n",
       "    </tr>\n",
       "    <tr>\n",
       "      <th>6</th>\n",
       "      <td>6</td>\n",
       "      <td>2.0</td>\n",
       "    </tr>\n",
       "    <tr>\n",
       "      <th>7</th>\n",
       "      <td>7</td>\n",
       "      <td>2.0</td>\n",
       "    </tr>\n",
       "    <tr>\n",
       "      <th>8</th>\n",
       "      <td>8</td>\n",
       "      <td>2.0</td>\n",
       "    </tr>\n",
       "    <tr>\n",
       "      <th>9</th>\n",
       "      <td>9</td>\n",
       "      <td>1.0</td>\n",
       "    </tr>\n",
       "    <tr>\n",
       "      <th>10</th>\n",
       "      <td>10</td>\n",
       "      <td>1.0</td>\n",
       "    </tr>\n",
       "    <tr>\n",
       "      <th>11</th>\n",
       "      <td>11</td>\n",
       "      <td>1.0</td>\n",
       "    </tr>\n",
       "    <tr>\n",
       "      <th>12</th>\n",
       "      <td>12</td>\n",
       "      <td>0.5</td>\n",
       "    </tr>\n",
       "    <tr>\n",
       "      <th>13</th>\n",
       "      <td>13</td>\n",
       "      <td>0.5</td>\n",
       "    </tr>\n",
       "    <tr>\n",
       "      <th>14</th>\n",
       "      <td>14</td>\n",
       "      <td>0.5</td>\n",
       "    </tr>\n",
       "    <tr>\n",
       "      <th>15</th>\n",
       "      <td>15</td>\n",
       "      <td>0.5</td>\n",
       "    </tr>\n",
       "    <tr>\n",
       "      <th>16</th>\n",
       "      <td>16</td>\n",
       "      <td>1.0</td>\n",
       "    </tr>\n",
       "    <tr>\n",
       "      <th>17</th>\n",
       "      <td>17</td>\n",
       "      <td>0.5</td>\n",
       "    </tr>\n",
       "    <tr>\n",
       "      <th>18</th>\n",
       "      <td>18</td>\n",
       "      <td>0.4</td>\n",
       "    </tr>\n",
       "    <tr>\n",
       "      <th>19</th>\n",
       "      <td>19</td>\n",
       "      <td>0.3</td>\n",
       "    </tr>\n",
       "    <tr>\n",
       "      <th>20</th>\n",
       "      <td>20</td>\n",
       "      <td>0.1</td>\n",
       "    </tr>\n",
       "  </tbody>\n",
       "</table>\n",
       "</div>"
      ],
      "text/plain": [
       "     n  N [s-1]\n",
       "0    0      8.0\n",
       "1    1      6.0\n",
       "2    2      5.0\n",
       "3    3      4.0\n",
       "4    4      3.0\n",
       "5    5      2.0\n",
       "6    6      2.0\n",
       "7    7      2.0\n",
       "8    8      2.0\n",
       "9    9      1.0\n",
       "10  10      1.0\n",
       "11  11      1.0\n",
       "12  12      0.5\n",
       "13  13      0.5\n",
       "14  14      0.5\n",
       "15  15      0.5\n",
       "16  16      1.0\n",
       "17  17      0.5\n",
       "18  18      0.4\n",
       "19  19      0.3\n",
       "20  20      0.1"
      ]
     },
     "execution_count": 13,
     "metadata": {},
     "output_type": "execute_result"
    }
   ],
   "source": [
    "df3 = pd.read_excel('data/env-beta.xlsx')\n",
    "df3"
   ]
  },
  {
   "cell_type": "code",
   "execution_count": 14,
   "metadata": {},
   "outputs": [
    {
     "data": {
      "image/png": "[encoded data removed]",
      "text/plain": [
       "<Figure size 432x432 with 1 Axes>"
      ]
     },
     "metadata": {
      "needs_background": "light"
     },
     "output_type": "display_data"
    }
   ],
   "source": [
    "plt.figure(figsize = [6,6])\n",
    "plt.scatter(0.03*df3['n'],df3['N [s-1]'])# one sheet of Al is 0.03 mm thick\n",
    "plt.xlabel('Thickness(mm)')\n",
    "plt.ylabel('Count($s^{-1}$)')\n",
    "plt.title('Absorption curve')\n",
    "plt.show()"
   ]
  },
  {
   "cell_type": "code",
   "execution_count": 15,
   "metadata": {},
   "outputs": [
    {
     "data": {
      "image/png": "[encoded data removed]",
      "text/plain": [
       "<Figure size 432x432 with 1 Axes>"
      ]
     },
     "metadata": {
      "needs_background": "light"
     },
     "output_type": "display_data"
    }
   ],
   "source": [
    "n3=20\n",
    "x3=0.03*df3['n']\n",
    "y3=np.log(df3['N [s-1]'])\n",
    "z3=np.polyfit(x3, y3, 1) # second order  fit y=a+bx\n",
    "p3=np.poly1d(z3)  #  [c,b,a]\n",
    "ey3=p3(x3) #expected value\n",
    "A2=\"{:.3}\".format(p3[0])\n",
    "B2=\"{:.3}\".format(-p3[1])\n",
    "\n",
    "\n",
    "RMSE3=np.sqrt(np.sum((y3-ey3)**2)/n3)\n",
    "R_square3=1-(np.sum(np.sum(np.sum((y3-ey3)**2))/np.sum((y3-np.mean(y2))**2)))\n",
    "rmse3=\"{:.2}\".format(RMSE3)\n",
    "r23=\"{:.2}\".format(R_square3)\n",
    "\n",
    "\n",
    "plt.figure(figsize = [6,6])\n",
    "plt.plot(x3, y3, 'ro',label='observed')\n",
    "plt.plot(x3, ey3, 'b-',label='fitted, A= '+str(A2)+', B='+str(B2))\n",
    "plt.xlabel('Thickness(mm)')\n",
    "plt.ylabel('ln(N)')\n",
    "plt.figtext(0.2, 0.3, 'RMSE = '+str(rmse3)+',r2='+str(r23))\n",
    "plt.legend()\n",
    "plt.title('Fitted curve')\n",
    "plt.show()"
   ]
  },
  {
   "cell_type": "code",
   "execution_count": 16,
   "metadata": {},
   "outputs": [
    {
     "name": "stdout",
     "output_type": "stream",
     "text": [
      "absorption coefficient =5.695 /mm\n"
     ]
    }
   ],
   "source": [
    "print('absorption coefficient =%0.3f /mm'%-p3[1])"
   ]
  },
  {
   "cell_type": "code",
   "execution_count": 17,
   "metadata": {},
   "outputs": [
    {
     "name": "stdout",
     "output_type": "stream",
     "text": [
      "mass absorption coefficient =21.091 sq.cm/gm\n"
     ]
    }
   ],
   "source": [
    "density=2.7 # in cgs\n",
    "mu_m=-10*p3[1]/density # in cgs\n",
    "print('mass absorption coefficient =%0.3f sq.cm/gm'%mu_m)"
   ]
  },
  {
   "cell_type": "code",
   "execution_count": null,
   "metadata": {},
   "outputs": [],
   "source": []
  }
 ],
 "metadata": {
  "kernelspec": {
   "display_name": "Python 3",
   "language": "python",
   "name": "python3"
  },
  "language_info": {
   "codemirror_mode": {
    "name": "ipython",
    "version": 3
   },
   "file_extension": ".py",
   "mimetype": "text/x-python",
   "name": "python",
   "nbconvert_exporter": "python",
   "pygments_lexer": "ipython3",
   "version": "3.7.6"
  },
  "widgets": {
   "state": {},
   "version": "1.1.2"
  }
 },
 "nbformat": 4,
 "nbformat_minor": 2
}
